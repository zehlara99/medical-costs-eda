{
 "cells": [
  {
   "cell_type": "markdown",
   "id": "a7285d82",
   "metadata": {},
   "source": [
    "# Projeto 01 - EDA (Medical Cost Personal Datasets)"
   ]
  },
  {
   "cell_type": "markdown",
   "id": "ae7d4eb9",
   "metadata": {},
   "source": [
    "## Importing Libraries"
   ]
  },
  {
   "cell_type": "code",
   "execution_count": null,
   "id": "85c0b4a7",
   "metadata": {},
   "outputs": [],
   "source": [
    "import pandas as pd\n",
    "import numpy as np\n",
    "from scipy.stats import kurtosis, skew\n",
    "from scipy import stats\n",
    "import matplotlib.pyplot as plt\n",
    "from statsmodels.stats.diagnostic import het_breuschpagan\n",
    "from statsmodels.stats.diagnostic import het_white\n",
    "from statsmodels.formula.api import ols\n",
    "from mpl_toolkits.mplot3d import Axes3D\n",
    "import plotly.express as px\n",
    "import statsmodels.api as sm\n",
    "from sklearn import preprocessing\n",
    "from sklearn.linear_model import LinearRegression\n",
    "import seaborn as sns\n",
    "sns.set()"
   ]
  },
  {
   "cell_type": "markdown",
   "id": "a4547049",
   "metadata": {},
   "source": [
    "## Business Case\n",
    "\n",
    "Here we have a dataset that contains information about medical costs from an insurance company, containing different kinds of people. Our desire is to understand the data better and gather insights about the field of medical insurance.\n",
    "\n",
    "We might be able to answer questions such as: \n",
    "\n",
    "* Can you accurately predict insurance costs?\n",
    "* What variables influence the patients' cost the most?\n",
    "* Can we predict medical insurance charges based on the other variables available?\n",
    "* How does the insurance charges relate to all the other features?\n",
    "\n",
    "We can use this dataset to understand how the variables such as age, sex, bmi, children, smoker and region to check how they influence and are correlated with the variable 'charges'. This is important because we might be able to accurately price rates for potential customers, minimizing risk and optimizing profits based on that persons's data."
   ]
  },
  {
   "cell_type": "markdown",
   "id": "86640839",
   "metadata": {},
   "source": [
    "## Data Collection & Cleaning\n",
    "\n",
    "In this case the data collection was quite easy. We didn't have to scrape any website, connect to any API or database to gather the data from there. It was just downloading the dataset from kaggle in csv format.\n",
    "\n",
    "The dataset was also very 'clean' so there wasn't much to do in that area."
   ]
  },
  {
   "cell_type": "code",
   "execution_count": null,
   "id": "d77ee518",
   "metadata": {},
   "outputs": [],
   "source": [
    "df = pd.read_csv('insurance.csv')"
   ]
  },
  {
   "cell_type": "code",
   "execution_count": null,
   "id": "49e38df1",
   "metadata": {
    "scrolled": true
   },
   "outputs": [],
   "source": [
    "df"
   ]
  },
  {
   "cell_type": "markdown",
   "id": "25d45c5b",
   "metadata": {},
   "source": [
    "## EDA (Exploratory Data Analysis)"
   ]
  },
  {
   "cell_type": "markdown",
   "id": "9dc4dce6",
   "metadata": {},
   "source": [
    "### Univariate Statistics"
   ]
  },
  {
   "cell_type": "markdown",
   "id": "9131f30f",
   "metadata": {},
   "source": [
    "Here we will check things such as:\n",
    "\n",
    "* General information about the variables (data type, total values, unique values, missing data)\n",
    "\n",
    "* Range and central tendencies measures (min, max, mean, median, mode, quartiles)\n",
    "\n",
    "* Normality and spread (standard deviation, skewness, kurtosis)\n",
    "\n",
    "When checking the distribution of variables the ideal scenario is to have a perfectly normal distribution (shaped like a bell curve)."
   ]
  },
  {
   "cell_type": "markdown",
   "id": "3b412db4",
   "metadata": {},
   "source": [
    "**Quick summary of the numerical variables in the dataset**"
   ]
  },
  {
   "cell_type": "code",
   "execution_count": null,
   "id": "7544f922",
   "metadata": {},
   "outputs": [],
   "source": [
    "df.describe()"
   ]
  },
  {
   "cell_type": "markdown",
   "id": "8aeb1905",
   "metadata": {},
   "source": [
    "**Checking the column names for this dataset**"
   ]
  },
  {
   "cell_type": "code",
   "execution_count": null,
   "id": "55f54b63",
   "metadata": {},
   "outputs": [],
   "source": [
    "df.columns"
   ]
  },
  {
   "cell_type": "markdown",
   "id": "9a126bb4",
   "metadata": {},
   "source": [
    "**Checking for missing values**"
   ]
  },
  {
   "cell_type": "markdown",
   "id": "82c9306c",
   "metadata": {},
   "source": [
    "We have 1338 rows (observations) in this dataset. Let's check if there are any missing values in any of the columns.\n",
    "\n",
    "Let's count the number of values the columns mentioned. If it's lesses than 1338, we know there are missing values."
   ]
  },
  {
   "cell_type": "code",
   "execution_count": null,
   "id": "4839d164",
   "metadata": {},
   "outputs": [],
   "source": [
    "print(f'age: {df.age.count()}')\n",
    "print(f'sex: {df.sex.count()}')\n",
    "print(f'bmi: {df.bmi.count()}')\n",
    "print(f'children: {df.children.count()}')\n",
    "print(f'smoker: {df.smoker.count()}')\n",
    "print(f'region: {df.region.count()}')\n",
    "print(f'charges: {df.charges.count()}')"
   ]
  },
  {
   "cell_type": "markdown",
   "id": "89d8f235",
   "metadata": {},
   "source": [
    "Here is another way to check for missing data:"
   ]
  },
  {
   "cell_type": "code",
   "execution_count": null,
   "id": "fe8babe1",
   "metadata": {},
   "outputs": [],
   "source": [
    "print(f'age: {df.age.isnull().sum()}')\n",
    "print(f'sex: {df.sex.isnull().sum()}')\n",
    "print(f'bmi: {df.bmi.isnull().sum()}')\n",
    "print(f'children: {df.children.isnull().sum()}')\n",
    "print(f'smoker: {df.smoker.isnull().sum()}')\n",
    "print(f'region: {df.region.isnull().sum()}')\n",
    "print(f'charges: {df.charges.isnull().sum()}')"
   ]
  },
  {
   "cell_type": "markdown",
   "id": "909886aa",
   "metadata": {},
   "source": [
    "**How many unique values are in each column?**"
   ]
  },
  {
   "cell_type": "code",
   "execution_count": null,
   "id": "511a3cbd",
   "metadata": {},
   "outputs": [],
   "source": [
    "print(f'age: {df.age.nunique()}')\n",
    "print(f'sex: {df.sex.nunique()}')\n",
    "print(f'bmi: {df.bmi.nunique()}')\n",
    "print(f'children: {df.children.nunique()}')\n",
    "print(f'smoker: {df.smoker.nunique()}')\n",
    "print(f'region: {df.region.nunique()}')\n",
    "print(f'charges: {df.charges.nunique()}')"
   ]
  },
  {
   "cell_type": "markdown",
   "id": "de5f2e26",
   "metadata": {},
   "source": [
    "**What are the data types for each variable?**"
   ]
  },
  {
   "cell_type": "code",
   "execution_count": null,
   "id": "bbc71ed9",
   "metadata": {},
   "outputs": [],
   "source": [
    "print(f'age: {df.age.dtype}')\n",
    "print(f'sex: {df.sex.dtype}')\n",
    "print(f'bmi: {df.bmi.dtype}')\n",
    "print(f'children: {df.children.dtype}')\n",
    "print(f'smoker: {df.smoker.dtype}')\n",
    "print(f'region: {df.region.dtype}')\n",
    "print(f'charges: {df.charges.dtype}')"
   ]
  },
  {
   "cell_type": "markdown",
   "id": "00b6e94b",
   "metadata": {},
   "source": [
    "**Checking to see which variables are numeric**"
   ]
  },
  {
   "cell_type": "code",
   "execution_count": null,
   "id": "70f06432",
   "metadata": {},
   "outputs": [],
   "source": [
    "print(f'age: {pd.api.types.is_numeric_dtype(df.age)}')\n",
    "print(f'sex: {pd.api.types.is_numeric_dtype(df.sex)}')\n",
    "print(f'bmi: {pd.api.types.is_numeric_dtype(df.bmi)}')\n",
    "print(f'children: {pd.api.types.is_numeric_dtype(df.children)}')\n",
    "print(f'smoker: {pd.api.types.is_numeric_dtype(df.smoker)}')\n",
    "print(f'region: {pd.api.types.is_numeric_dtype(df.region)}')\n",
    "print(f'charges: {pd.api.types.is_numeric_dtype(df.charges)}')"
   ]
  },
  {
   "cell_type": "markdown",
   "id": "5106f1b5",
   "metadata": {},
   "source": [
    "**Looking at the boundaries, range and middle part of the 'charges' variable**"
   ]
  },
  {
   "cell_type": "code",
   "execution_count": null,
   "id": "81eae4b6",
   "metadata": {},
   "outputs": [],
   "source": [
    "print(df.charges.min())\n",
    "print(df.charges.quantile(.25))\n",
    "print(df.charges.quantile(.50))\n",
    "print(df.charges.quantile(.75))\n",
    "print(df.charges.max())\n",
    "print(df.charges.mean())\n",
    "print(df.charges.median())\n",
    "print(df.charges.mode().values[0])"
   ]
  },
  {
   "cell_type": "markdown",
   "id": "96451344",
   "metadata": {},
   "source": [
    "**Looking at the 'spread' (standard deviation) for the 'charges' variable**"
   ]
  },
  {
   "cell_type": "markdown",
   "id": "d867e491",
   "metadata": {},
   "source": [
    "The pandas formula assumes that it's a sample, the numpy formula assumes that it's a population, so we need to input a new parameter."
   ]
  },
  {
   "cell_type": "code",
   "execution_count": null,
   "id": "c5f3a8e1",
   "metadata": {},
   "outputs": [],
   "source": [
    "df.charges.std()"
   ]
  },
  {
   "cell_type": "code",
   "execution_count": null,
   "id": "a1df27a9",
   "metadata": {},
   "outputs": [],
   "source": [
    "np.std(df.charges, ddof = 1)"
   ]
  },
  {
   "cell_type": "markdown",
   "id": "1a94df82",
   "metadata": {},
   "source": [
    "**Checking for skewness and kurtosis**"
   ]
  },
  {
   "cell_type": "markdown",
   "id": "a660fefa",
   "metadata": {},
   "source": [
    "Scipy assumes population, pandas assumes sample.\n",
    "\n",
    "Generally speaking, acceptable values for skewness and kurtosis are between -1 and 1."
   ]
  },
  {
   "cell_type": "code",
   "execution_count": null,
   "id": "1fc63cc0",
   "metadata": {},
   "outputs": [],
   "source": [
    "print(skew(df.charges, bias = False))\n",
    "print(kurtosis(df.charges, bias = False))"
   ]
  },
  {
   "cell_type": "code",
   "execution_count": null,
   "id": "14597f68",
   "metadata": {},
   "outputs": [],
   "source": [
    "print(df.charges.skew())\n",
    "print(df.charges.kurt())"
   ]
  },
  {
   "cell_type": "markdown",
   "id": "8a060bfb",
   "metadata": {},
   "source": [
    "This means that it's right skewed (longer right tail) and \"higher\" and not flattened because of the kurtosis."
   ]
  },
  {
   "cell_type": "markdown",
   "id": "e8408236",
   "metadata": {},
   "source": [
    "### Bivariate Statistics"
   ]
  },
  {
   "cell_type": "markdown",
   "id": "1c50a969",
   "metadata": {},
   "source": [
    "Here we are interested to see the relationship between the dependent variable with the independent ones. In other words, the relationship between the features (independent) and labels (dependent).\n",
    "\n",
    "The relationships can be: \n",
    "\n",
    "* Numerical/numerical (pearson correlation R) + scatterplot\n",
    "* Numerical/categorical (one way ANOVA) + bar chart\n",
    "* Categorical/categorical (Pearson chi-square) + crosstab"
   ]
  },
  {
   "cell_type": "markdown",
   "id": "5f74725f",
   "metadata": {},
   "source": [
    "Pearson Correlation Coef R have assumptions that need to be met in order to be meaningful:\n",
    "\n",
    "* Continuous data\n",
    "* Linear relationship\n",
    "* Homoskedastic (the error is the same across all values of X)"
   ]
  },
  {
   "cell_type": "markdown",
   "id": "d4904832",
   "metadata": {},
   "source": [
    "**P-value and Correlation**"
   ]
  },
  {
   "cell_type": "markdown",
   "id": "dbcfa971",
   "metadata": {},
   "source": [
    "P value is the probability that the results we obtained are not going to be repeated in further analysis. It's the likelihood that what we saw is not truly representative of the data.\n",
    "\n",
    "* Low p value: good, we can trust the results that we've got\n",
    "* High p value: bad, means that we can't trust the results that we've got"
   ]
  },
  {
   "cell_type": "markdown",
   "id": "00f7663f",
   "metadata": {},
   "source": [
    "**Correlation Matrix of the Dataset**"
   ]
  },
  {
   "cell_type": "code",
   "execution_count": null,
   "id": "e0a61acf",
   "metadata": {
    "scrolled": true
   },
   "outputs": [],
   "source": [
    "df.corr()"
   ]
  },
  {
   "cell_type": "markdown",
   "id": "92a25d28",
   "metadata": {},
   "source": [
    "**We can specify the variables we want to see the correlation of**"
   ]
  },
  {
   "cell_type": "code",
   "execution_count": null,
   "id": "1f8a2b9a",
   "metadata": {},
   "outputs": [],
   "source": [
    "df.charges.corr(df.bmi)"
   ]
  },
  {
   "cell_type": "markdown",
   "id": "baab1652",
   "metadata": {},
   "source": [
    "**We can also see the correlation plus the p-value between variables**"
   ]
  },
  {
   "cell_type": "code",
   "execution_count": null,
   "id": "295ede3c",
   "metadata": {},
   "outputs": [],
   "source": [
    "r, p = stats.pearsonr(df.charges, df.age)\n",
    "print(round(r,4))\n",
    "print(round(p,29))"
   ]
  },
  {
   "cell_type": "markdown",
   "id": "4d6a6446",
   "metadata": {},
   "source": [
    "**Calculating correlation and p-value for charges to all numeric variables in the dataset**"
   ]
  },
  {
   "cell_type": "code",
   "execution_count": null,
   "id": "12c1db72",
   "metadata": {},
   "outputs": [],
   "source": [
    "corr_df = pd.DataFrame(columns=['r','p'])\n",
    "\n",
    "for col in df:\n",
    "    if pd.api.types.is_numeric_dtype(df[col]) and col!= 'charges':\n",
    "        r, p = stats.pearsonr(df.charges, df[col])\n",
    "        corr_df.loc[col] = [round(r,3), round(p,3)]\n",
    "        \n",
    "corr_df"
   ]
  },
  {
   "cell_type": "markdown",
   "id": "f28f5dd7",
   "metadata": {},
   "source": [
    "## Visualizations"
   ]
  },
  {
   "cell_type": "markdown",
   "id": "a3c83b2c",
   "metadata": {},
   "source": [
    "### Numerical to Numerical Variables"
   ]
  },
  {
   "cell_type": "markdown",
   "id": "c53911a5",
   "metadata": {},
   "source": [
    "**Scatterplots**"
   ]
  },
  {
   "cell_type": "code",
   "execution_count": null,
   "id": "f5367cbd",
   "metadata": {},
   "outputs": [],
   "source": [
    "plt.scatter(df.age, df.charges)\n",
    "plt.title('Age x Charges')\n",
    "plt.xlabel('Age')\n",
    "plt.ylabel('Charges')\n",
    "plt.show()"
   ]
  },
  {
   "cell_type": "markdown",
   "id": "e5f10677",
   "metadata": {},
   "source": [
    "Here we can see a correlation between age and charges. There are 3 separate clusters of individuals and the correlation is positive for all of them."
   ]
  },
  {
   "cell_type": "markdown",
   "id": "afcfe4ac",
   "metadata": {},
   "source": [
    "#### Now let's separate the dataframe into smokers and non smokers and plot them together"
   ]
  },
  {
   "cell_type": "code",
   "execution_count": null,
   "id": "f2895a70",
   "metadata": {},
   "outputs": [],
   "source": [
    "df_smoker = df[df['smoker'] == 'yes']\n",
    "df_nonsmoker = df[df['smoker'] == 'no']\n",
    "\n",
    "plt.scatter(df_smoker.age, df_smoker.charges, label = 'Smokers')\n",
    "plt.scatter(df_nonsmoker.age, df_nonsmoker.charges, label = 'NonSmokers')\n",
    "plt.title('Age x Charges')\n",
    "plt.xlabel('Age')\n",
    "plt.ylabel('Charges')\n",
    "plt.legend()\n",
    "plt.show()"
   ]
  },
  {
   "cell_type": "markdown",
   "id": "a9cd3c9d",
   "metadata": {},
   "source": [
    "It's visible that non smokers cost less to the insurance company."
   ]
  },
  {
   "cell_type": "markdown",
   "id": "e0327a41",
   "metadata": {},
   "source": [
    "#### Adding a regression line to the scatterplot"
   ]
  },
  {
   "cell_type": "code",
   "execution_count": null,
   "id": "cfc6a688",
   "metadata": {},
   "outputs": [],
   "source": [
    "a, b, r, p, err = stats.linregress(df.age, df.charges)\n",
    "\n",
    "# y = ax + b\n",
    "# y = slope(x) + intercept\n",
    "\n",
    "x = range(18,66)\n",
    "y = a * x + b\n",
    "\n",
    "plt.plot(x,y, color = 'green')\n",
    "plt.scatter(df.age, df.charges)\n",
    "plt.title('Age x Charges')\n",
    "plt.xlabel('Age')\n",
    "plt.ylabel('Charges')\n",
    "plt.show()"
   ]
  },
  {
   "cell_type": "markdown",
   "id": "fdc3783f",
   "metadata": {},
   "source": [
    "Charges go up as the age goes up, and we can see that there are 03 distinct groups as well. In addition, the regression line is located at the bottom because there are many datapoints concentrated in that area."
   ]
  },
  {
   "cell_type": "markdown",
   "id": "2192db64",
   "metadata": {},
   "source": [
    "#### Calculating values for heteroscedasticity in the data (how it's spread)"
   ]
  },
  {
   "cell_type": "code",
   "execution_count": null,
   "id": "0ceb9a8a",
   "metadata": {},
   "outputs": [],
   "source": [
    "model = ols(formula='charges~age', data= df).fit()\n",
    "\n",
    "white_test = het_white(model.resid, model.model.exog)\n",
    "bruschpagan_test = het_breuschpagan(model.resid, model.model.exog)\n",
    "\n",
    "output_df = pd.DataFrame(columns=['LM stat','LM p','F stat','F stat p'])\n",
    "output_df.loc['White'] = white_test\n",
    "output_df.loc['Brusch-Pagan'] = bruschpagan_test\n",
    "\n",
    "output_df"
   ]
  },
  {
   "cell_type": "markdown",
   "id": "f6826817",
   "metadata": {},
   "source": [
    "We can see a pattern of relative small F stats and large p-values. This means the difference between the residuals for all values of X is consistent. We use this test to check if we can rely on the predictions across all values of X."
   ]
  },
  {
   "cell_type": "markdown",
   "id": "2147358e",
   "metadata": {},
   "source": [
    "#### Using seaborn we can plot scatterplots combined with the histogram for each variable."
   ]
  },
  {
   "cell_type": "code",
   "execution_count": null,
   "id": "d81aac80",
   "metadata": {
    "scrolled": true
   },
   "outputs": [],
   "source": [
    "sns.set(color_codes = True)\n",
    "sns.jointplot(x='age',y='charges', data=df)\n",
    "plt.show()"
   ]
  },
  {
   "cell_type": "markdown",
   "id": "9ce5bee6",
   "metadata": {},
   "source": [
    "#### Using the hex and kde kinds we can see where the datapoints are more dense and concentrated"
   ]
  },
  {
   "cell_type": "code",
   "execution_count": null,
   "id": "1f8f280a",
   "metadata": {},
   "outputs": [],
   "source": [
    "sns.set_style('white')\n",
    "sns.jointplot(x='age',y='charges', data=df, kind = 'hex')"
   ]
  },
  {
   "cell_type": "code",
   "execution_count": null,
   "id": "0aaae3eb",
   "metadata": {},
   "outputs": [],
   "source": [
    "sns.jointplot(x='age', y='charges', data=df, kind = 'kde')"
   ]
  },
  {
   "cell_type": "code",
   "execution_count": null,
   "id": "28a8e09e",
   "metadata": {
    "scrolled": true
   },
   "outputs": [],
   "source": [
    "f, ax = plt.subplots(figsize = (8, 6))\n",
    "cmap = sns.cubehelix_palette(as_cmap = True, dark = 0, light = 1, reverse = False)\n",
    "sns.kdeplot(df.age, df.charges, cmap = cmap, n_levels = 60, shade = True)\n",
    "plt.show()"
   ]
  },
  {
   "cell_type": "markdown",
   "id": "57111df0",
   "metadata": {},
   "source": [
    "**Comparing the variables all at once**"
   ]
  },
  {
   "cell_type": "code",
   "execution_count": null,
   "id": "0f25227e",
   "metadata": {},
   "outputs": [],
   "source": [
    "sns.pairplot(df)"
   ]
  },
  {
   "cell_type": "code",
   "execution_count": null,
   "id": "8a94648c",
   "metadata": {},
   "outputs": [],
   "source": [
    "g = sns.PairGrid(df)\n",
    "g.map_diag(sns.kdeplot)\n",
    "g.map_offdiag(sns.kdeplot, n_levels=10)"
   ]
  },
  {
   "cell_type": "markdown",
   "id": "a35b0173",
   "metadata": {},
   "source": [
    "**Visualizing in multiple dimensions**"
   ]
  },
  {
   "cell_type": "code",
   "execution_count": null,
   "id": "598df15a",
   "metadata": {},
   "outputs": [],
   "source": [
    "font = {'size': 8}\n",
    "plt.rc('font', **font)\n",
    "\n",
    "fig = plt.figure()\n",
    "three_d_plot = Axes3D(fig)\n",
    "three_d_plot.scatter(df.age, df.bmi, df.charges)\n",
    "\n",
    "plt.show()"
   ]
  },
  {
   "cell_type": "markdown",
   "id": "6b998849",
   "metadata": {},
   "source": [
    "**Making it more interactive!**"
   ]
  },
  {
   "cell_type": "code",
   "execution_count": null,
   "id": "246b1bb7",
   "metadata": {},
   "outputs": [],
   "source": [
    "fig = px.scatter_3d(df, x='age', y='charges', z='bmi', color = 'smoker', symbol = 'sex')\n",
    "fig.show()"
   ]
  },
  {
   "cell_type": "markdown",
   "id": "e657a248",
   "metadata": {},
   "source": [
    "### Numerical to Categorical Variables"
   ]
  },
  {
   "cell_type": "markdown",
   "id": "9f0c2f18",
   "metadata": {},
   "source": [
    "Assumptions concerning ANOVAs and t-tests (for each group of the categorical variable):\n",
    "* Normal distribution of the numeric variable\n",
    "* Equal variance of the numerical variable\n",
    "* Data used was sampled independently between the groups"
   ]
  },
  {
   "cell_type": "code",
   "execution_count": null,
   "id": "0086093e",
   "metadata": {},
   "outputs": [],
   "source": [
    "sns.histplot(data = df, x='charges', hue='sex', kde=True);"
   ]
  },
  {
   "cell_type": "code",
   "execution_count": null,
   "id": "0d56aaba",
   "metadata": {},
   "outputs": [],
   "source": [
    "sex_m = df[df['sex'] == 'male']\n",
    "sex_f = df[df['sex'] == 'female']\n",
    "\n",
    "stats.ttest_ind(sex_m['charges'], sex_f['charges'])"
   ]
  },
  {
   "cell_type": "code",
   "execution_count": null,
   "id": "bdbb9940",
   "metadata": {},
   "outputs": [],
   "source": [
    "sns.histplot(data = df, x='charges', hue='smoker', kde=True);"
   ]
  },
  {
   "cell_type": "code",
   "execution_count": null,
   "id": "a7183f08",
   "metadata": {},
   "outputs": [],
   "source": [
    "smoker_y = df[df['smoker'] == 'yes']\n",
    "smoker_n = df[df['smoker'] == 'no']\n",
    "\n",
    "stats.ttest_ind(smoker_y['charges'], smoker_n['charges'])"
   ]
  },
  {
   "cell_type": "markdown",
   "id": "d53671bc",
   "metadata": {},
   "source": [
    "**Automating this task**"
   ]
  },
  {
   "cell_type": "code",
   "execution_count": null,
   "id": "6cc3e486",
   "metadata": {},
   "outputs": [],
   "source": [
    "def anova(feature, label):\n",
    "    groups = df[feature].unique()\n",
    "    grouped_values = []\n",
    "    for group in groups:\n",
    "        grouped_values.append(df[df[feature] == group][label])\n",
    "    return stats.f_oneway(*grouped_values)"
   ]
  },
  {
   "cell_type": "code",
   "execution_count": null,
   "id": "b29cc449",
   "metadata": {},
   "outputs": [],
   "source": [
    "anova('smoker','charges')"
   ]
  },
  {
   "cell_type": "markdown",
   "id": "d7d5838d",
   "metadata": {},
   "source": [
    "## Multiple Linear Regression"
   ]
  },
  {
   "cell_type": "code",
   "execution_count": null,
   "id": "b356968c",
   "metadata": {
    "scrolled": true
   },
   "outputs": [],
   "source": [
    "label = 'charges'\n",
    "\n",
    "y = df.charges\n",
    "X = df[['age', 'bmi', 'children']].assign(const=1)\n",
    "\n",
    "model = sm.OLS(y, X)\n",
    "results = model.fit()\n",
    "print(results.summary())"
   ]
  },
  {
   "cell_type": "markdown",
   "id": "5226bbd2",
   "metadata": {},
   "source": [
    "**Creating a column in the dataframe with the predictions the model has calculated**"
   ]
  },
  {
   "cell_type": "code",
   "execution_count": null,
   "id": "52ae63dc",
   "metadata": {},
   "outputs": [],
   "source": [
    "df['predictions'] = results.fittedvalues\n",
    "df"
   ]
  },
  {
   "cell_type": "markdown",
   "id": "0256e3ff",
   "metadata": {},
   "source": [
    "R squared has a pretty low value so the predictions are not accurate. Let's try putting in the categorical variables as independent variables as well. But first we need to make a few changes (dummy variables)."
   ]
  },
  {
   "cell_type": "code",
   "execution_count": null,
   "id": "140ac4e7",
   "metadata": {},
   "outputs": [],
   "source": [
    "df = pd.get_dummies(df, columns=['sex'], prefix = 'sex', drop_first=True)\n",
    "df = pd.get_dummies(df, columns=['smoker'], prefix = 'smoker', drop_first=True)\n",
    "df = pd.get_dummies(df, columns=['region'], prefix = 'region', drop_first=True)\n",
    "\n",
    "df.head()"
   ]
  },
  {
   "cell_type": "code",
   "execution_count": null,
   "id": "936b0132",
   "metadata": {},
   "outputs": [],
   "source": [
    "df.head()"
   ]
  },
  {
   "cell_type": "code",
   "execution_count": null,
   "id": "dddedb3d",
   "metadata": {},
   "outputs": [],
   "source": [
    "y = df.charges\n",
    "X = df.drop(columns=[label, 'predictions']).assign(const=1)\n",
    "\n",
    "results = sm.OLS(y, X).fit()\n",
    "print(results.summary())"
   ]
  },
  {
   "cell_type": "markdown",
   "id": "273211a4",
   "metadata": {},
   "source": [
    "With the categorical variables turned into dummy, in order to use them in the model, we can see that the R squared has significantly gone up.\n",
    "\n",
    "Interpretation of coefficients: for every 01 year anyone ages, their charges increase by 256 dollars +-.\n",
    "\n",
    "Now we want to make the coefficients comparable, but they are in different scales... So we need to normalize the scales of these values."
   ]
  },
  {
   "cell_type": "code",
   "execution_count": null,
   "id": "744e5a5f",
   "metadata": {},
   "outputs": [],
   "source": [
    "df_zscore = pd.DataFrame(preprocessing.StandardScaler().fit_transform(df), columns=df.columns)\n",
    "df_zscore.head()"
   ]
  },
  {
   "cell_type": "code",
   "execution_count": null,
   "id": "01b191fb",
   "metadata": {},
   "outputs": [],
   "source": [
    "y = df_zscore.charges\n",
    "X = df_zscore.drop(columns=['predictions', 'charges']).assign(const=1)\n",
    "\n",
    "results = sm.OLS(y, X).fit()\n",
    "print(results.summary())"
   ]
  },
  {
   "cell_type": "code",
   "execution_count": null,
   "id": "c5b24b64",
   "metadata": {},
   "outputs": [],
   "source": [
    "sns.histplot(y);"
   ]
  },
  {
   "cell_type": "code",
   "execution_count": null,
   "id": "1e3df3eb",
   "metadata": {},
   "outputs": [],
   "source": [
    "sns.histplot(df.charges);"
   ]
  },
  {
   "cell_type": "markdown",
   "id": "21676b87",
   "metadata": {},
   "source": [
    "Normalizing does not change the distributions of the variables, neither the predictions we make. But the coefficients become comparable and interpretable."
   ]
  },
  {
   "cell_type": "markdown",
   "id": "2c9cfe87",
   "metadata": {},
   "source": [
    "**MinMax Normalization**"
   ]
  },
  {
   "cell_type": "code",
   "execution_count": null,
   "id": "6ebacfde",
   "metadata": {},
   "outputs": [],
   "source": [
    "df_minmax = pd.DataFrame(preprocessing.MinMaxScaler().fit_transform(df), columns=df.columns)\n",
    "df_minmax.head()"
   ]
  },
  {
   "cell_type": "markdown",
   "id": "ddf6319a",
   "metadata": {},
   "source": [
    "Setting the min values to 0 and the max values to 1, making it even easier to interpret the coefficients."
   ]
  },
  {
   "cell_type": "code",
   "execution_count": null,
   "id": "8ea14052",
   "metadata": {},
   "outputs": [],
   "source": [
    "sns.histplot(df_minmax.charges);"
   ]
  },
  {
   "cell_type": "code",
   "execution_count": null,
   "id": "af92254d",
   "metadata": {},
   "outputs": [],
   "source": [
    "y = df_minmax.charges\n",
    "X = df_minmax.drop(columns=['predictions', 'charges']).assign(const=1)\n",
    "\n",
    "results = sm.OLS(y, X).fit()\n",
    "print(results.summary())"
   ]
  },
  {
   "cell_type": "markdown",
   "id": "ab07512c",
   "metadata": {},
   "source": [
    "The skew is high (>1) so let's make more adjustments to the dataframe. Let's apply a natural log transformation."
   ]
  },
  {
   "cell_type": "code",
   "execution_count": null,
   "id": "c54ffe69",
   "metadata": {},
   "outputs": [],
   "source": [
    "y = np.log1p(y)\n",
    "sns.histplot(y);"
   ]
  },
  {
   "cell_type": "markdown",
   "id": "5e276b93",
   "metadata": {},
   "source": [
    "Not quite normally distributed yet. Let's try applying the transformation before the standardization."
   ]
  },
  {
   "cell_type": "code",
   "execution_count": null,
   "id": "7166ebac",
   "metadata": {},
   "outputs": [],
   "source": [
    "sns.histplot(np.log(df.charges));"
   ]
  },
  {
   "cell_type": "markdown",
   "id": "5d2f336a",
   "metadata": {},
   "source": [
    "Much better (:"
   ]
  },
  {
   "cell_type": "code",
   "execution_count": null,
   "id": "db5b5870",
   "metadata": {},
   "outputs": [],
   "source": [
    "y = np.log(df.charges)\n",
    "X = df.drop(columns=['predictions','charges']).assign(const=1)\n",
    "\n",
    "print(sm.OLS(y, X).fit().summary())"
   ]
  },
  {
   "cell_type": "markdown",
   "id": "dfc8b194",
   "metadata": {},
   "source": [
    "**Multicolinearity**"
   ]
  },
  {
   "cell_type": "markdown",
   "id": "020bd33b",
   "metadata": {},
   "source": [
    "It's when we have independent variables that are highly correlated to each other."
   ]
  },
  {
   "cell_type": "code",
   "execution_count": null,
   "id": "e48f8d1a",
   "metadata": {},
   "outputs": [],
   "source": [
    "# VIF = variance inflation factor = 1 / (1 - R2)\n",
    "\n",
    "def vif(df):\n",
    "    import pandas as pd\n",
    "    from sklearn.linear_model import LinearRegression\n",
    "    \n",
    "    # dictionaries\n",
    "    vif_dict, tolerance_dict = {}, {}\n",
    "    \n",
    "    # form input data for each indep variable\n",
    "    for col in df.drop(columns=['const']):\n",
    "        y = df[col]\n",
    "        X = df.drop(columns=[col])\n",
    "        \n",
    "        # extract r2 from the fit\n",
    "        r_squared = LinearRegression().fit(X, y).score(X, y)\n",
    "        \n",
    "        # calculate vif\n",
    "        if r_squared < 1:\n",
    "            vif = 1/(1 - r_squared)\n",
    "        else:\n",
    "            vif = 100\n",
    "        vif_dict[col] = vif\n",
    "            \n",
    "        # calculate tolerance\n",
    "        tolerance = 1 - r_squared\n",
    "        tolerance_dict[col] = tolerance\n",
    "        \n",
    "        # generate the dataframe\n",
    "        df_output = pd.DataFrame({'VIF': vif_dict, 'Tolerance' : tolerance_dict})\n",
    "        \n",
    "    return df_output.sort_values(by=['VIF'], ascending=False)\n",
    "\n",
    "vif(X)"
   ]
  },
  {
   "cell_type": "markdown",
   "id": "702d672d",
   "metadata": {},
   "source": [
    "For VIF values:\n",
    "\n",
    "* < 10 ADEQUATE\n",
    "* < 5 GOOD\n",
    "* < 3 IDEAL"
   ]
  }
 ],
 "metadata": {
  "kernelspec": {
   "display_name": "Python 3 (ipykernel)",
   "language": "python",
   "name": "python3"
  },
  "language_info": {
   "codemirror_mode": {
    "name": "ipython",
    "version": 3
   },
   "file_extension": ".py",
   "mimetype": "text/x-python",
   "name": "python",
   "nbconvert_exporter": "python",
   "pygments_lexer": "ipython3",
   "version": "3.9.7"
  }
 },
 "nbformat": 4,
 "nbformat_minor": 5
}
